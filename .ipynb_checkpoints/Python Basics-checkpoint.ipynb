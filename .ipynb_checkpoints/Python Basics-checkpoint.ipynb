{
 "cells": [
  {
   "cell_type": "code",
   "execution_count": 1,
   "id": "6573964a",
   "metadata": {},
   "outputs": [
    {
     "name": "stdout",
     "output_type": "stream",
     "text": [
      "12220\n"
     ]
    }
   ],
   "source": [
    "rent = 12220\n",
    "print(rent)"
   ]
  },
  {
   "cell_type": "code",
   "execution_count": 2,
   "id": "668c5478",
   "metadata": {},
   "outputs": [],
   "source": [
    "gas = 202.56\n",
    "groceries = 305.6\n",
    "total = rent+gas+groceries"
   ]
  },
  {
   "cell_type": "code",
   "execution_count": 3,
   "id": "0e2e95f3",
   "metadata": {},
   "outputs": [
    {
     "name": "stdout",
     "output_type": "stream",
     "text": [
      "12728.16\n"
     ]
    }
   ],
   "source": [
    "print(total)"
   ]
  },
  {
   "cell_type": "code",
   "execution_count": 4,
   "id": "61b6a3cf",
   "metadata": {},
   "outputs": [
    {
     "name": "stdout",
     "output_type": "stream",
     "text": [
      "rent groceries gas\n"
     ]
    }
   ],
   "source": [
    "item1 = \"rent\"\n",
    "item2 = \"groceries\"\n",
    "item3 = \"gas\"\n",
    "print(item1, item2, item3)"
   ]
  },
  {
   "cell_type": "code",
   "execution_count": 5,
   "id": "7d5f50b2",
   "metadata": {},
   "outputs": [
    {
     "data": {
      "text/plain": [
       "455.89"
      ]
     },
     "execution_count": 5,
     "metadata": {},
     "output_type": "execute_result"
    }
   ],
   "source": [
    "gas = 455.893383\n",
    "round(gas, 2)\n"
   ]
  },
  {
   "cell_type": "code",
   "execution_count": 6,
   "id": "50744555",
   "metadata": {},
   "outputs": [
    {
     "name": "stdout",
     "output_type": "stream",
     "text": [
      "ice cream\n"
     ]
    }
   ],
   "source": [
    "text = \"ice cream\"\n",
    "print(text)"
   ]
  },
  {
   "cell_type": "code",
   "execution_count": 7,
   "id": "a9fd85c1",
   "metadata": {},
   "outputs": [
    {
     "data": {
      "text/plain": [
       "'i'"
      ]
     },
     "execution_count": 7,
     "metadata": {},
     "output_type": "execute_result"
    }
   ],
   "source": [
    "text[0]"
   ]
  },
  {
   "cell_type": "code",
   "execution_count": 8,
   "id": "c0779b20",
   "metadata": {},
   "outputs": [
    {
     "data": {
      "text/plain": [
       "'c'"
      ]
     },
     "execution_count": 8,
     "metadata": {},
     "output_type": "execute_result"
    }
   ],
   "source": [
    "text[1]"
   ]
  },
  {
   "cell_type": "code",
   "execution_count": 9,
   "id": "8eba2628",
   "metadata": {},
   "outputs": [
    {
     "data": {
      "text/plain": [
       "'ce cream'"
      ]
     },
     "execution_count": 9,
     "metadata": {},
     "output_type": "execute_result"
    }
   ],
   "source": [
    "text[1:]"
   ]
  },
  {
   "cell_type": "code",
   "execution_count": 12,
   "id": "dd03426c",
   "metadata": {},
   "outputs": [
    {
     "data": {
      "text/plain": [
       "'ice'"
      ]
     },
     "execution_count": 12,
     "metadata": {},
     "output_type": "execute_result"
    }
   ],
   "source": [
    "text[0:3]"
   ]
  },
  {
   "cell_type": "markdown",
   "id": "f7e442ec",
   "metadata": {},
   "source": [
    "## Strings are imutable in python ##"
   ]
  },
  {
   "cell_type": "code",
   "execution_count": 13,
   "id": "f02a6075",
   "metadata": {},
   "outputs": [
    {
     "data": {
      "text/plain": [
       "'cream'"
      ]
     },
     "execution_count": 13,
     "metadata": {},
     "output_type": "execute_result"
    }
   ],
   "source": [
    "text[4:9]"
   ]
  },
  {
   "cell_type": "code",
   "execution_count": 14,
   "id": "ef781f7b",
   "metadata": {},
   "outputs": [
    {
     "data": {
      "text/plain": [
       "'ice cre'"
      ]
     },
     "execution_count": 14,
     "metadata": {},
     "output_type": "execute_result"
    }
   ],
   "source": [
    "text[:7]"
   ]
  },
  {
   "cell_type": "markdown",
   "id": "608a3d07",
   "metadata": {},
   "source": [
    "## To convert a number into string ##"
   ]
  },
  {
   "cell_type": "code",
   "execution_count": 15,
   "id": "1afd5ecf",
   "metadata": {},
   "outputs": [
    {
     "data": {
      "text/plain": [
       "'23'"
      ]
     },
     "execution_count": 15,
     "metadata": {},
     "output_type": "execute_result"
    }
   ],
   "source": [
    "num = 23\n",
    "str(num)"
   ]
  },
  {
   "cell_type": "code",
   "execution_count": 19,
   "id": "5f2e5e4a",
   "metadata": {},
   "outputs": [
    {
     "name": "stdout",
     "output_type": "stream",
     "text": [
      "ice cream-23\n"
     ]
    }
   ],
   "source": [
    "print(text +'-'+str(num))"
   ]
  },
  {
   "cell_type": "markdown",
   "id": "022eefc9",
   "metadata": {},
   "source": [
    "## Lists in python ##"
   ]
  },
  {
   "cell_type": "code",
   "execution_count": 20,
   "id": "a74f41ee",
   "metadata": {},
   "outputs": [
    {
     "name": "stdout",
     "output_type": "stream",
     "text": [
      "['bread', 'pasta', 'fruits', 'vegetables']\n"
     ]
    }
   ],
   "source": [
    "items = [\"bread\",\"pasta\",\"fruits\",\"vegetables\"]\n",
    "print(items)"
   ]
  },
  {
   "cell_type": "markdown",
   "id": "f4b40605",
   "metadata": {},
   "source": [
    "## Lists in python are mutable ##"
   ]
  },
  {
   "cell_type": "code",
   "execution_count": 21,
   "id": "9187c2c8",
   "metadata": {},
   "outputs": [
    {
     "name": "stdout",
     "output_type": "stream",
     "text": [
      "['chips', 'pasta', 'fruits', 'vegetables']\n"
     ]
    }
   ],
   "source": [
    "## example ## \n",
    "items[0]  =\"chips\"\n",
    "print(items)"
   ]
  },
  {
   "cell_type": "code",
   "execution_count": 22,
   "id": "06469660",
   "metadata": {},
   "outputs": [
    {
     "data": {
      "text/plain": [
       "['chips', 'pasta']"
      ]
     },
     "execution_count": 22,
     "metadata": {},
     "output_type": "execute_result"
    }
   ],
   "source": [
    "items[0:2]"
   ]
  },
  {
   "cell_type": "code",
   "execution_count": 23,
   "id": "ebe3bede",
   "metadata": {},
   "outputs": [
    {
     "data": {
      "text/plain": [
       "'vegetables'"
      ]
     },
     "execution_count": 23,
     "metadata": {},
     "output_type": "execute_result"
    }
   ],
   "source": [
    "items[-1]"
   ]
  },
  {
   "cell_type": "code",
   "execution_count": 24,
   "id": "4ccfead3",
   "metadata": {},
   "outputs": [],
   "source": [
    "## if we have to add something in list we can add by  using append command ##\n",
    "items.append(\"butter\")"
   ]
  },
  {
   "cell_type": "code",
   "execution_count": 25,
   "id": "dc4b0c3d",
   "metadata": {},
   "outputs": [
    {
     "data": {
      "text/plain": [
       "['chips', 'pasta', 'fruits', 'vegetables', 'butter']"
      ]
     },
     "execution_count": 25,
     "metadata": {},
     "output_type": "execute_result"
    }
   ],
   "source": [
    "items"
   ]
  },
  {
   "cell_type": "code",
   "execution_count": 28,
   "id": "99129b00",
   "metadata": {},
   "outputs": [
    {
     "name": "stdout",
     "output_type": "stream",
     "text": [
      "['chips', 'coldrinks', 'coldrinks', 'butter', 'pasta', 'fruits', 'vegetables', 'butter']\n"
     ]
    }
   ],
   "source": [
    "## if we have to append at our desired index then we use insert command ##\n",
    "items.insert(1, \"coldrinks\")\n",
    "print(items)"
   ]
  },
  {
   "cell_type": "code",
   "execution_count": 29,
   "id": "d9e4041b",
   "metadata": {},
   "outputs": [
    {
     "data": {
      "text/plain": [
       "8"
      ]
     },
     "execution_count": 29,
     "metadata": {},
     "output_type": "execute_result"
    }
   ],
   "source": [
    "len(items)"
   ]
  },
  {
   "cell_type": "markdown",
   "id": "223f43e7",
   "metadata": {},
   "source": [
    "## If and Else statement in python ##"
   ]
  },
  {
   "cell_type": "code",
   "execution_count": 32,
   "id": "c3364a82",
   "metadata": {},
   "outputs": [
    {
     "name": "stdout",
     "output_type": "stream",
     "text": [
      "Enter a number: 3\n",
      "Odd Number\n"
     ]
    }
   ],
   "source": [
    "num = input(\"Enter a number: \")\n",
    "num = int(num)\n",
    "if num%2 == 0:\n",
    "    print(\"Even Number\")\n",
    "else:\n",
    "    print(\"Odd Number\")\n"
   ]
  },
  {
   "cell_type": "markdown",
   "id": "77dd375d",
   "metadata": {},
   "source": [
    "## For loop in Python ##"
   ]
  },
  {
   "cell_type": "code",
   "execution_count": 34,
   "id": "68479913",
   "metadata": {},
   "outputs": [
    {
     "name": "stdout",
     "output_type": "stream",
     "text": [
      "15440\n"
     ]
    }
   ],
   "source": [
    "expenses = [2340, 2500, 2100, 3100, 2500, 2900]\n",
    "total = 0\n",
    "for items in expenses:\n",
    "    total += items\n",
    "print(total)"
   ]
  },
  {
   "cell_type": "code",
   "execution_count": 35,
   "id": "f5215cfe",
   "metadata": {},
   "outputs": [
    {
     "name": "stdout",
     "output_type": "stream",
     "text": [
      "1\n",
      "2\n",
      "3\n",
      "4\n",
      "5\n",
      "6\n",
      "7\n",
      "8\n",
      "9\n",
      "10\n"
     ]
    }
   ],
   "source": [
    "for i in range(1,11):\n",
    "    print(i)"
   ]
  },
  {
   "cell_type": "code",
   "execution_count": 38,
   "id": "f5f1f6ef",
   "metadata": {},
   "outputs": [
    {
     "name": "stdout",
     "output_type": "stream",
     "text": [
      "Month:  1 Expenses:  2340\n",
      "Month:  2 Expenses:  2500\n",
      "Month:  3 Expenses:  2100\n",
      "Month:  4 Expenses:  3100\n",
      "Month:  5 Expenses:  2500\n",
      "Month:  6 Expenses:  2900\n",
      "total:  61760\n"
     ]
    }
   ],
   "source": [
    "for i in range(len(expenses)):\n",
    "    print(\"Month: \",(i+1), \"Expenses: \",expenses[i])\n",
    "    total += expenses[i]\n",
    "print(\"total: \",total)"
   ]
  },
  {
   "cell_type": "code",
   "execution_count": 39,
   "id": "680e5e53",
   "metadata": {},
   "outputs": [
    {
     "name": "stdout",
     "output_type": "stream",
     "text": [
      "1\n",
      "9\n",
      "25\n"
     ]
    }
   ],
   "source": [
    "for i in range(1,6):\n",
    "    if i%2==0:\n",
    "        continue\n",
    "    print(i*i)"
   ]
  },
  {
   "cell_type": "markdown",
   "id": "0407d716",
   "metadata": {},
   "source": [
    "## Functions : Functions are a block of code that perform a specific task ##"
   ]
  },
  {
   "cell_type": "code",
   "execution_count": 42,
   "id": "5997b95d",
   "metadata": {},
   "outputs": [],
   "source": [
    "## Examples ##\n",
    "def calculate_total(exp):\n",
    "    total = 0\n",
    "    for i in exp:\n",
    "        total += i\n",
    "    return(total)\n",
    "\n",
    "A_list = [2100, 3000 ,4500, 6500]\n",
    "B_list = [340, 567]\n",
    "\n",
    "A_total_list = calculate_total(A_list)\n",
    "B_total_list = calculate_total(B_list)"
   ]
  },
  {
   "cell_type": "code",
   "execution_count": 43,
   "id": "0cd2d371",
   "metadata": {},
   "outputs": [
    {
     "name": "stdout",
     "output_type": "stream",
     "text": [
      "16100\n",
      "907\n"
     ]
    }
   ],
   "source": [
    "print(A_total_list)\n",
    "print(B_total_list)"
   ]
  },
  {
   "cell_type": "markdown",
   "id": "92b42391",
   "metadata": {},
   "source": [
    "## Dictionaries allows you to store key value pair ##"
   ]
  },
  {
   "cell_type": "markdown",
   "id": "214eb665",
   "metadata": {},
   "source": [
    "## Also known as Maps, HashTables and associated arrays ##"
   ]
  },
  {
   "cell_type": "code",
   "execution_count": 1,
   "id": "429bf97d",
   "metadata": {},
   "outputs": [
    {
     "name": "stdout",
     "output_type": "stream",
     "text": [
      "{'tom': 839434984, 'rob': 894314141, 'harsh': 984332413}\n"
     ]
    }
   ],
   "source": [
    "d = {\"tom\":839434984, \"rob\": 894314141, \"harsh\": 984332413}\n",
    "print(d)"
   ]
  },
  {
   "cell_type": "code",
   "execution_count": 2,
   "id": "a2002bb8",
   "metadata": {},
   "outputs": [
    {
     "data": {
      "text/plain": [
       "839434984"
      ]
     },
     "execution_count": 2,
     "metadata": {},
     "output_type": "execute_result"
    }
   ],
   "source": [
    "d[\"tom\"]"
   ]
  },
  {
   "cell_type": "markdown",
   "id": "64eb681c",
   "metadata": {},
   "source": [
    "## Here tom is the key and the value is the pair ##"
   ]
  },
  {
   "cell_type": "markdown",
   "id": "b7debbac",
   "metadata": {},
   "source": [
    "## If we want to add a new key pair in a dictionary ##"
   ]
  },
  {
   "cell_type": "code",
   "execution_count": 3,
   "id": "b4be38e7",
   "metadata": {},
   "outputs": [
    {
     "data": {
      "text/plain": [
       "{'tom': 839434984, 'rob': 894314141, 'harsh': 984332413, 'sam': 40397295}"
      ]
     },
     "execution_count": 3,
     "metadata": {},
     "output_type": "execute_result"
    }
   ],
   "source": [
    "d[\"sam\"] = 40397295\n",
    "d"
   ]
  },
  {
   "cell_type": "markdown",
   "id": "04bf8edf",
   "metadata": {},
   "source": [
    "## If we want to delete any key pair from dictionary we use del command ##"
   ]
  },
  {
   "cell_type": "code",
   "execution_count": 4,
   "id": "cec825ec",
   "metadata": {},
   "outputs": [],
   "source": [
    "del d[\"sam\"]"
   ]
  },
  {
   "cell_type": "code",
   "execution_count": 5,
   "id": "1c3a177e",
   "metadata": {},
   "outputs": [
    {
     "data": {
      "text/plain": [
       "{'tom': 839434984, 'rob': 894314141, 'harsh': 984332413}"
      ]
     },
     "execution_count": 5,
     "metadata": {},
     "output_type": "execute_result"
    }
   ],
   "source": [
    "d"
   ]
  },
  {
   "cell_type": "code",
   "execution_count": 9,
   "id": "e2ec3c23",
   "metadata": {},
   "outputs": [
    {
     "name": "stdout",
     "output_type": "stream",
     "text": [
      "Key: tom value: 839434984\n",
      "Key: rob value: 894314141\n",
      "Key: harsh value: 984332413\n"
     ]
    }
   ],
   "source": [
    "for i in d:\n",
    "    print(\"Key:\",i,\"value:\",d[i])"
   ]
  },
  {
   "cell_type": "markdown",
   "id": "677eb3f1",
   "metadata": {},
   "source": [
    "## By using tuples ##"
   ]
  },
  {
   "cell_type": "code",
   "execution_count": 10,
   "id": "d1ea79c2",
   "metadata": {},
   "outputs": [
    {
     "name": "stdout",
     "output_type": "stream",
     "text": [
      "Key: tom value: 839434984\n",
      "Key: rob value: 894314141\n",
      "Key: harsh value: 984332413\n"
     ]
    }
   ],
   "source": [
    "for k,v in d.items():\n",
    "    print(\"Key:\",k,\"value:\",v)"
   ]
  },
  {
   "cell_type": "code",
   "execution_count": 11,
   "id": "187aa152",
   "metadata": {},
   "outputs": [
    {
     "data": {
      "text/plain": [
       "True"
      ]
     },
     "execution_count": 11,
     "metadata": {},
     "output_type": "execute_result"
    }
   ],
   "source": [
    "\"harsh\" in d"
   ]
  },
  {
   "cell_type": "code",
   "execution_count": 12,
   "id": "17be2da2",
   "metadata": {},
   "outputs": [
    {
     "data": {
      "text/plain": [
       "False"
      ]
     },
     "execution_count": 12,
     "metadata": {},
     "output_type": "execute_result"
    }
   ],
   "source": [
    "\"tom\" in d.items()"
   ]
  },
  {
   "cell_type": "code",
   "execution_count": 13,
   "id": "b1cc3137",
   "metadata": {},
   "outputs": [],
   "source": [
    "d.clear()"
   ]
  },
  {
   "cell_type": "code",
   "execution_count": 14,
   "id": "27c2f180",
   "metadata": {},
   "outputs": [
    {
     "data": {
      "text/plain": [
       "{}"
      ]
     },
     "execution_count": 14,
     "metadata": {},
     "output_type": "execute_result"
    }
   ],
   "source": [
    "d"
   ]
  },
  {
   "cell_type": "markdown",
   "id": "fa7a7704",
   "metadata": {},
   "source": [
    "## Tuples is a list of values grouped together ##"
   ]
  },
  {
   "cell_type": "markdown",
   "id": "8aa96675",
   "metadata": {},
   "source": [
    "## Difference between list and tuples is that , list have the similar meaning (homogenous) and tuples have different meaning (heterogenous)"
   ]
  },
  {
   "cell_type": "code",
   "execution_count": 15,
   "id": "38fdd534",
   "metadata": {},
   "outputs": [],
   "source": [
    "## Example of tuple ##"
   ]
  },
  {
   "cell_type": "code",
   "execution_count": 16,
   "id": "600a1046",
   "metadata": {},
   "outputs": [
    {
     "data": {
      "text/plain": [
       "9"
      ]
     },
     "execution_count": 16,
     "metadata": {},
     "output_type": "execute_result"
    }
   ],
   "source": [
    "point = (5,9)\n",
    "point[1]"
   ]
  },
  {
   "cell_type": "markdown",
   "id": "201096c8",
   "metadata": {},
   "source": [
    "## Tuples are also immutable ##"
   ]
  },
  {
   "cell_type": "markdown",
   "id": "7d84b856",
   "metadata": {},
   "source": [
    "## In python Modules is a way to reuse a code written by someone else ##"
   ]
  },
  {
   "cell_type": "code",
   "execution_count": 18,
   "id": "c9232437",
   "metadata": {},
   "outputs": [],
   "source": [
    "import calendar"
   ]
  },
  {
   "cell_type": "code",
   "execution_count": 19,
   "id": "e05ff43e",
   "metadata": {},
   "outputs": [
    {
     "name": "stdout",
     "output_type": "stream",
     "text": [
      "    January 2016\n",
      "Mo Tu We Th Fr Sa Su\n",
      "             1  2  3\n",
      " 4  5  6  7  8  9 10\n",
      "11 12 13 14 15 16 17\n",
      "18 19 20 21 22 23 24\n",
      "25 26 27 28 29 30 31\n",
      "\n"
     ]
    }
   ],
   "source": [
    "cal = calendar.month(2016,1)\n",
    "print(cal)"
   ]
  },
  {
   "cell_type": "code",
   "execution_count": 20,
   "id": "70ccd950",
   "metadata": {},
   "outputs": [],
   "source": [
    "import math"
   ]
  },
  {
   "cell_type": "code",
   "execution_count": 21,
   "id": "202646b2",
   "metadata": {},
   "outputs": [
    {
     "data": {
      "text/plain": [
       "4.0"
      ]
     },
     "execution_count": 21,
     "metadata": {},
     "output_type": "execute_result"
    }
   ],
   "source": [
    "math.sqrt(16)"
   ]
  },
  {
   "cell_type": "code",
   "execution_count": 22,
   "id": "956b0996",
   "metadata": {},
   "outputs": [
    {
     "data": {
      "text/plain": [
       "True"
      ]
     },
     "execution_count": 22,
     "metadata": {},
     "output_type": "execute_result"
    }
   ],
   "source": [
    "calendar.isleap(2016)"
   ]
  },
  {
   "cell_type": "code",
   "execution_count": 23,
   "id": "3ac9fd95",
   "metadata": {},
   "outputs": [
    {
     "data": {
      "text/plain": [
       "['Calendar',\n",
       " 'EPOCH',\n",
       " 'FRIDAY',\n",
       " 'February',\n",
       " 'HTMLCalendar',\n",
       " 'IllegalMonthError',\n",
       " 'IllegalWeekdayError',\n",
       " 'January',\n",
       " 'LocaleHTMLCalendar',\n",
       " 'LocaleTextCalendar',\n",
       " 'MONDAY',\n",
       " 'SATURDAY',\n",
       " 'SUNDAY',\n",
       " 'THURSDAY',\n",
       " 'TUESDAY',\n",
       " 'TextCalendar',\n",
       " 'WEDNESDAY',\n",
       " '_EPOCH_ORD',\n",
       " '__all__',\n",
       " '__builtins__',\n",
       " '__cached__',\n",
       " '__doc__',\n",
       " '__file__',\n",
       " '__loader__',\n",
       " '__name__',\n",
       " '__package__',\n",
       " '__spec__',\n",
       " '_colwidth',\n",
       " '_locale',\n",
       " '_localized_day',\n",
       " '_localized_month',\n",
       " '_monthlen',\n",
       " '_nextmonth',\n",
       " '_prevmonth',\n",
       " '_spacing',\n",
       " 'c',\n",
       " 'calendar',\n",
       " 'datetime',\n",
       " 'day_abbr',\n",
       " 'day_name',\n",
       " 'different_locale',\n",
       " 'error',\n",
       " 'firstweekday',\n",
       " 'format',\n",
       " 'formatstring',\n",
       " 'isleap',\n",
       " 'leapdays',\n",
       " 'main',\n",
       " 'mdays',\n",
       " 'month',\n",
       " 'month_abbr',\n",
       " 'month_name',\n",
       " 'monthcalendar',\n",
       " 'monthrange',\n",
       " 'prcal',\n",
       " 'prmonth',\n",
       " 'prweek',\n",
       " 'repeat',\n",
       " 'setfirstweekday',\n",
       " 'sys',\n",
       " 'timegm',\n",
       " 'week',\n",
       " 'weekday',\n",
       " 'weekheader']"
      ]
     },
     "execution_count": 23,
     "metadata": {},
     "output_type": "execute_result"
    }
   ],
   "source": [
    "dir(calendar)"
   ]
  },
  {
   "cell_type": "markdown",
   "id": "78e551b4",
   "metadata": {},
   "source": [
    "## Exceptions are the errors detected at the time of program execution ##"
   ]
  },
  {
   "cell_type": "code",
   "execution_count": 24,
   "id": "69c931ce",
   "metadata": {},
   "outputs": [
    {
     "name": "stdout",
     "output_type": "stream",
     "text": [
      "Enter a number: 1\n",
      "Enter a number: 0\n",
      "Exception occured:  division by zero\n",
      "Divison is:  None\n"
     ]
    }
   ],
   "source": [
    "## Example ##\n",
    "x = input(\"Enter a number: \")\n",
    "y = input(\"Enter a number: \")\n",
    "try:\n",
    "    z = int(x) / int(y)\n",
    "except Exception as e:\n",
    "    print(\"Exception occured: \",e)\n",
    "    z = None\n",
    "print(\"Divison is: \",z)"
   ]
  },
  {
   "cell_type": "code",
   "execution_count": null,
   "id": "b136f834",
   "metadata": {},
   "outputs": [],
   "source": []
  }
 ],
 "metadata": {
  "kernelspec": {
   "display_name": "Python 3 (ipykernel)",
   "language": "python",
   "name": "python3"
  },
  "language_info": {
   "codemirror_mode": {
    "name": "ipython",
    "version": 3
   },
   "file_extension": ".py",
   "mimetype": "text/x-python",
   "name": "python",
   "nbconvert_exporter": "python",
   "pygments_lexer": "ipython3",
   "version": "3.9.13"
  }
 },
 "nbformat": 4,
 "nbformat_minor": 5
}
