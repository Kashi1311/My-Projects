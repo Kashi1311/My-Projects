{
 "cells": [
  {
   "cell_type": "code",
   "execution_count": 1,
   "id": "6573964a",
   "metadata": {},
   "outputs": [
    {
     "name": "stdout",
     "output_type": "stream",
     "text": [
      "12220\n"
     ]
    }
   ],
   "source": [
    "rent = 12220\n",
    "print(rent)"
   ]
  },
  {
   "cell_type": "code",
   "execution_count": 2,
   "id": "668c5478",
   "metadata": {},
   "outputs": [],
   "source": [
    "gas = 202.56\n",
    "groceries = 305.6\n",
    "total = rent+gas+groceries"
   ]
  },
  {
   "cell_type": "code",
   "execution_count": 3,
   "id": "0e2e95f3",
   "metadata": {},
   "outputs": [
    {
     "name": "stdout",
     "output_type": "stream",
     "text": [
      "12728.16\n"
     ]
    }
   ],
   "source": [
    "print(total)"
   ]
  },
  {
   "cell_type": "code",
   "execution_count": 4,
   "id": "61b6a3cf",
   "metadata": {},
   "outputs": [
    {
     "name": "stdout",
     "output_type": "stream",
     "text": [
      "rent groceries gas\n"
     ]
    }
   ],
   "source": [
    "item1 = \"rent\"\n",
    "item2 = \"groceries\"\n",
    "item3 = \"gas\"\n",
    "print(item1, item2, item3)"
   ]
  },
  {
   "cell_type": "code",
   "execution_count": 5,
   "id": "7d5f50b2",
   "metadata": {},
   "outputs": [
    {
     "data": {
      "text/plain": [
       "455.89"
      ]
     },
     "execution_count": 5,
     "metadata": {},
     "output_type": "execute_result"
    }
   ],
   "source": [
    "gas = 455.893383\n",
    "round(gas, 2)\n"
   ]
  },
  {
   "cell_type": "code",
   "execution_count": 6,
   "id": "50744555",
   "metadata": {},
   "outputs": [
    {
     "name": "stdout",
     "output_type": "stream",
     "text": [
      "ice cream\n"
     ]
    }
   ],
   "source": [
    "text = \"ice cream\"\n",
    "print(text)"
   ]
  },
  {
   "cell_type": "code",
   "execution_count": 7,
   "id": "a9fd85c1",
   "metadata": {},
   "outputs": [
    {
     "data": {
      "text/plain": [
       "'i'"
      ]
     },
     "execution_count": 7,
     "metadata": {},
     "output_type": "execute_result"
    }
   ],
   "source": [
    "text[0]"
   ]
  },
  {
   "cell_type": "code",
   "execution_count": 8,
   "id": "c0779b20",
   "metadata": {},
   "outputs": [
    {
     "data": {
      "text/plain": [
       "'c'"
      ]
     },
     "execution_count": 8,
     "metadata": {},
     "output_type": "execute_result"
    }
   ],
   "source": [
    "text[1]"
   ]
  },
  {
   "cell_type": "code",
   "execution_count": 9,
   "id": "8eba2628",
   "metadata": {},
   "outputs": [
    {
     "data": {
      "text/plain": [
       "'ce cream'"
      ]
     },
     "execution_count": 9,
     "metadata": {},
     "output_type": "execute_result"
    }
   ],
   "source": [
    "text[1:]"
   ]
  },
  {
   "cell_type": "code",
   "execution_count": 12,
   "id": "dd03426c",
   "metadata": {},
   "outputs": [
    {
     "data": {
      "text/plain": [
       "'ice'"
      ]
     },
     "execution_count": 12,
     "metadata": {},
     "output_type": "execute_result"
    }
   ],
   "source": [
    "text[0:3]"
   ]
  },
  {
   "cell_type": "markdown",
   "id": "f7e442ec",
   "metadata": {},
   "source": [
    "## Strings are imutable in python ##"
   ]
  },
  {
   "cell_type": "code",
   "execution_count": 13,
   "id": "f02a6075",
   "metadata": {},
   "outputs": [
    {
     "data": {
      "text/plain": [
       "'cream'"
      ]
     },
     "execution_count": 13,
     "metadata": {},
     "output_type": "execute_result"
    }
   ],
   "source": [
    "text[4:9]"
   ]
  },
  {
   "cell_type": "code",
   "execution_count": 14,
   "id": "ef781f7b",
   "metadata": {},
   "outputs": [
    {
     "data": {
      "text/plain": [
       "'ice cre'"
      ]
     },
     "execution_count": 14,
     "metadata": {},
     "output_type": "execute_result"
    }
   ],
   "source": [
    "text[:7]"
   ]
  },
  {
   "cell_type": "markdown",
   "id": "608a3d07",
   "metadata": {},
   "source": [
    "## To convert a number into string ##"
   ]
  },
  {
   "cell_type": "code",
   "execution_count": 15,
   "id": "1afd5ecf",
   "metadata": {},
   "outputs": [
    {
     "data": {
      "text/plain": [
       "'23'"
      ]
     },
     "execution_count": 15,
     "metadata": {},
     "output_type": "execute_result"
    }
   ],
   "source": [
    "num = 23\n",
    "str(num)"
   ]
  },
  {
   "cell_type": "code",
   "execution_count": 19,
   "id": "5f2e5e4a",
   "metadata": {},
   "outputs": [
    {
     "name": "stdout",
     "output_type": "stream",
     "text": [
      "ice cream-23\n"
     ]
    }
   ],
   "source": [
    "print(text +'-'+str(num))"
   ]
  },
  {
   "cell_type": "markdown",
   "id": "022eefc9",
   "metadata": {},
   "source": [
    "## Lists in python ##"
   ]
  },
  {
   "cell_type": "code",
   "execution_count": 20,
   "id": "a74f41ee",
   "metadata": {},
   "outputs": [
    {
     "name": "stdout",
     "output_type": "stream",
     "text": [
      "['bread', 'pasta', 'fruits', 'vegetables']\n"
     ]
    }
   ],
   "source": [
    "items = [\"bread\",\"pasta\",\"fruits\",\"vegetables\"]\n",
    "print(items)"
   ]
  },
  {
   "cell_type": "markdown",
   "id": "f4b40605",
   "metadata": {},
   "source": [
    "## Lists in python are mutable ##"
   ]
  },
  {
   "cell_type": "code",
   "execution_count": 21,
   "id": "9187c2c8",
   "metadata": {},
   "outputs": [
    {
     "name": "stdout",
     "output_type": "stream",
     "text": [
      "['chips', 'pasta', 'fruits', 'vegetables']\n"
     ]
    }
   ],
   "source": [
    "## example ## \n",
    "items[0]  =\"chips\"\n",
    "print(items)"
   ]
  },
  {
   "cell_type": "code",
   "execution_count": 22,
   "id": "06469660",
   "metadata": {},
   "outputs": [
    {
     "data": {
      "text/plain": [
       "['chips', 'pasta']"
      ]
     },
     "execution_count": 22,
     "metadata": {},
     "output_type": "execute_result"
    }
   ],
   "source": [
    "items[0:2]"
   ]
  },
  {
   "cell_type": "code",
   "execution_count": 23,
   "id": "ebe3bede",
   "metadata": {},
   "outputs": [
    {
     "data": {
      "text/plain": [
       "'vegetables'"
      ]
     },
     "execution_count": 23,
     "metadata": {},
     "output_type": "execute_result"
    }
   ],
   "source": [
    "items[-1]"
   ]
  },
  {
   "cell_type": "code",
   "execution_count": 24,
   "id": "4ccfead3",
   "metadata": {},
   "outputs": [],
   "source": [
    "## if we have to add something in list we can add by  using append command ##\n",
    "items.append(\"butter\")"
   ]
  },
  {
   "cell_type": "code",
   "execution_count": 25,
   "id": "dc4b0c3d",
   "metadata": {},
   "outputs": [
    {
     "data": {
      "text/plain": [
       "['chips', 'pasta', 'fruits', 'vegetables', 'butter']"
      ]
     },
     "execution_count": 25,
     "metadata": {},
     "output_type": "execute_result"
    }
   ],
   "source": [
    "items"
   ]
  },
  {
   "cell_type": "code",
   "execution_count": 28,
   "id": "99129b00",
   "metadata": {},
   "outputs": [
    {
     "name": "stdout",
     "output_type": "stream",
     "text": [
      "['chips', 'coldrinks', 'coldrinks', 'butter', 'pasta', 'fruits', 'vegetables', 'butter']\n"
     ]
    }
   ],
   "source": [
    "## if we have to append at our desired index then we use insert command ##\n",
    "items.insert(1, \"coldrinks\")\n",
    "print(items)"
   ]
  },
  {
   "cell_type": "code",
   "execution_count": 29,
   "id": "d9e4041b",
   "metadata": {},
   "outputs": [
    {
     "data": {
      "text/plain": [
       "8"
      ]
     },
     "execution_count": 29,
     "metadata": {},
     "output_type": "execute_result"
    }
   ],
   "source": [
    "len(items)"
   ]
  },
  {
   "cell_type": "markdown",
   "id": "223f43e7",
   "metadata": {},
   "source": [
    "## If and Else statement in python ##"
   ]
  },
  {
   "cell_type": "code",
   "execution_count": 32,
   "id": "c3364a82",
   "metadata": {},
   "outputs": [
    {
     "name": "stdout",
     "output_type": "stream",
     "text": [
      "Enter a number: 3\n",
      "Odd Number\n"
     ]
    }
   ],
   "source": [
    "num = input(\"Enter a number: \")\n",
    "num = int(num)\n",
    "if num%2 == 0:\n",
    "    print(\"Even Number\")\n",
    "else:\n",
    "    print(\"Odd Number\")\n"
   ]
  },
  {
   "cell_type": "markdown",
   "id": "77dd375d",
   "metadata": {},
   "source": [
    "## For loop in Python ##"
   ]
  },
  {
   "cell_type": "code",
   "execution_count": 34,
   "id": "68479913",
   "metadata": {},
   "outputs": [
    {
     "name": "stdout",
     "output_type": "stream",
     "text": [
      "15440\n"
     ]
    }
   ],
   "source": [
    "expenses = [2340, 2500, 2100, 3100, 2500, 2900]\n",
    "total = 0\n",
    "for items in expenses:\n",
    "    total += items\n",
    "print(total)"
   ]
  },
  {
   "cell_type": "code",
   "execution_count": 35,
   "id": "f5215cfe",
   "metadata": {},
   "outputs": [
    {
     "name": "stdout",
     "output_type": "stream",
     "text": [
      "1\n",
      "2\n",
      "3\n",
      "4\n",
      "5\n",
      "6\n",
      "7\n",
      "8\n",
      "9\n",
      "10\n"
     ]
    }
   ],
   "source": [
    "for i in range(1,11):\n",
    "    print(i)"
   ]
  },
  {
   "cell_type": "code",
   "execution_count": 38,
   "id": "f5f1f6ef",
   "metadata": {},
   "outputs": [
    {
     "name": "stdout",
     "output_type": "stream",
     "text": [
      "Month:  1 Expenses:  2340\n",
      "Month:  2 Expenses:  2500\n",
      "Month:  3 Expenses:  2100\n",
      "Month:  4 Expenses:  3100\n",
      "Month:  5 Expenses:  2500\n",
      "Month:  6 Expenses:  2900\n",
      "total:  61760\n"
     ]
    }
   ],
   "source": [
    "for i in range(len(expenses)):\n",
    "    print(\"Month: \",(i+1), \"Expenses: \",expenses[i])\n",
    "    total += expenses[i]\n",
    "print(\"total: \",total)"
   ]
  },
  {
   "cell_type": "code",
   "execution_count": 39,
   "id": "680e5e53",
   "metadata": {},
   "outputs": [
    {
     "name": "stdout",
     "output_type": "stream",
     "text": [
      "1\n",
      "9\n",
      "25\n"
     ]
    }
   ],
   "source": [
    "for i in range(1,6):\n",
    "    if i%2==0:\n",
    "        continue\n",
    "    print(i*i)"
   ]
  },
  {
   "cell_type": "markdown",
   "id": "0407d716",
   "metadata": {},
   "source": [
    "## Functions : Functions are a block of code that perform a specific task ##"
   ]
  },
  {
   "cell_type": "code",
   "execution_count": 42,
   "id": "5997b95d",
   "metadata": {},
   "outputs": [],
   "source": [
    "## Examples ##\n",
    "def calculate_total(exp):\n",
    "    total = 0\n",
    "    for i in exp:\n",
    "        total += i\n",
    "    return(total)\n",
    "\n",
    "A_list = [2100, 3000 ,4500, 6500]\n",
    "B_list = [340, 567]\n",
    "\n",
    "A_total_list = calculate_total(A_list)\n",
    "B_total_list = calculate_total(B_list)"
   ]
  },
  {
   "cell_type": "code",
   "execution_count": 43,
   "id": "0cd2d371",
   "metadata": {},
   "outputs": [
    {
     "name": "stdout",
     "output_type": "stream",
     "text": [
      "16100\n",
      "907\n"
     ]
    }
   ],
   "source": [
    "print(A_total_list)\n",
    "print(B_total_list)"
   ]
  },
  {
   "cell_type": "code",
   "execution_count": null,
   "id": "417db137",
   "metadata": {},
   "outputs": [],
   "source": []
  }
 ],
 "metadata": {
  "kernelspec": {
   "display_name": "Python 3 (ipykernel)",
   "language": "python",
   "name": "python3"
  },
  "language_info": {
   "codemirror_mode": {
    "name": "ipython",
    "version": 3
   },
   "file_extension": ".py",
   "mimetype": "text/x-python",
   "name": "python",
   "nbconvert_exporter": "python",
   "pygments_lexer": "ipython3",
   "version": "3.9.13"
  }
 },
 "nbformat": 4,
 "nbformat_minor": 5
}
